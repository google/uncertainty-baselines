{
  "cells": [
    {
      "cell_type": "markdown",
      "metadata": {
        "id": "8vMo9TxNBl9t"
      },
      "source": [
        "# CLIP ImageNet Zero-Shot Performance\n",
        "\n",
        "*Licensed under the Apache License, Version 2.0.*\n",
        "\n",
        "This is a colab for clip's zero-shot ImageNet robustness evaluation\n",
        "\n"
      ]
    },
    {
      "cell_type": "markdown",
      "metadata": {
        "id": "DD02wux82iLo"
      },
      "source": [
        "## 1. Reproducing CLIP zero-shot ImageNet classification performance\n",
        "\n",
        "Replicating the latest OpenAI [Colab](https://github.com/openai/CLIP/blob/main/notebooks/Prompt_Engineering_for_ImageNet.ipynb).\n"
      ]
    },
    {
      "cell_type": "code",
      "execution_count": null,
      "metadata": {
        "id": "qUAPAyyJIX61"
      },
      "outputs": [],
      "source": [
        "# This section is built based on \n",
        "\n",
      ]
    },
    {
      "cell_type": "code",
      "execution_count": null,
      "metadata": {
        "id": "ZrHcKMdltCnX"
      },
      "outputs": [],
      "source": [
        "%pylab inline\n",
        "import tensorflow_datasets as tfds\n",
        "import jax\n",
        "import jax.numpy as jnp\n",
        "from tqdm import tqdm\n",
        "import tensorflow as tf\n",
        "import random\n",
        "\n",
        "\n",
        "from scenic.projects.baselines.clip import model as clip\n",
        "from scenic.projects.baselines.clip import tokenizer as clip_tokenizer\n",
        "from gvt.libml import preprocess as gvt_preprocess"
      ]
    },
    {
      "cell_type": "code",
      "execution_count": null,
      "metadata": {
        "id": "05NWZ85TVscl"
      },
      "outputs": [],
      "source": [
        "#@title ImageNet classNames\n",
        "# https://github.com/openai/CLIP/blob/main/notebooks/Prompt_Engineering_for_ImageNet.ipynb\n",
        "clip.IMAGENET_CLASSES = ['tench', 'goldfish', 'great white shark', 'tiger shark', 'hammerhead shark', 'electric ray', 'stingray', 'rooster', 'hen', 'ostrich', 'brambling', 'goldfinch', 'house finch', 'junco', 'indigo bunting', 'American robin', 'bulbul', 'jay', 'magpie', 'chickadee', 'American dipper', 'kite (bird of prey)', 'bald eagle', 'vulture', 'great grey owl', 'fire salamander', 'smooth newt', 'newt', 'spotted salamander', 'axolotl', 'American bullfrog', 'tree frog', 'tailed frog', 'loggerhead sea turtle', 'leatherback sea turtle', 'mud turtle', 'terrapin', 'box turtle', 'banded gecko', 'green iguana', 'Carolina anole', 'desert grassland whiptail lizard', 'agama', 'frilled-necked lizard', 'alligator lizard', 'Gila monster', 'European green lizard', 'chameleon', 'Komodo dragon', 'Nile crocodile', 'American alligator', 'triceratops', 'worm snake', 'ring-necked snake', 'eastern hog-nosed snake', 'smooth green snake', 'kingsnake', 'garter snake', 'water snake', 'vine snake', 'night snake', 'boa constrictor', 'African rock python', 'Indian cobra', 'green mamba', 'sea snake', 'Saharan horned viper', 'eastern diamondback rattlesnake', 'sidewinder rattlesnake', 'trilobite', 'harvestman', 'scorpion', 'yellow garden spider', 'barn spider', 'European garden spider', 'southern black widow', 'tarantula', 'wolf spider', 'tick', 'centipede', 'black grouse', 'ptarmigan', 'ruffed grouse', 'prairie grouse', 'peafowl', 'quail', 'partridge', 'african grey parrot', 'macaw', 'sulphur-crested cockatoo', 'lorikeet', 'coucal', 'bee eater', 'hornbill', 'hummingbird', 'jacamar', 'toucan', 'duck', 'red-breasted merganser', 'goose', 'black swan', 'tusker', 'echidna', 'platypus', 'wallaby', 'koala', 'wombat', 'jellyfish', 'sea anemone', 'brain coral', 'flatworm', 'nematode', 'conch', 'snail', 'slug', 'sea slug', 'chiton', 'chambered nautilus', 'Dungeness crab', 'rock crab', 'fiddler crab', 'red king crab', 'American lobster', 'spiny lobster', 'crayfish', 'hermit crab', 'isopod', 'white stork', 'black stork', 'spoonbill', 'flamingo', 'little blue heron', 'great egret', 'bittern bird', 'crane bird', 'limpkin', 'common gallinule', 'American coot', 'bustard', 'ruddy turnstone', 'dunlin', 'common redshank', 'dowitcher', 'oystercatcher', 'pelican', 'king penguin', 'albatross', 'grey whale', 'killer whale', 'dugong', 'sea lion', 'Chihuahua', 'Japanese Chin', 'Maltese', 'Pekingese', 'Shih Tzu', 'King Charles Spaniel', 'Papillon', 'toy terrier', 'Rhodesian Ridgeback', 'Afghan Hound', 'Basset Hound', 'Beagle', 'Bloodhound', 'Bluetick Coonhound', 'Black and Tan Coonhound', 'Treeing Walker Coonhound', 'English foxhound', 'Redbone Coonhound', 'borzoi', 'Irish Wolfhound', 'Italian Greyhound', 'Whippet', 'Ibizan Hound', 'Norwegian Elkhound', 'Otterhound', 'Saluki', 'Scottish Deerhound', 'Weimaraner', 'Staffordshire Bull Terrier', 'American Staffordshire Terrier', 'Bedlington Terrier', 'Border Terrier', 'Kerry Blue Terrier', 'Irish Terrier', 'Norfolk Terrier', 'Norwich Terrier', 'Yorkshire Terrier', 'Wire Fox Terrier', 'Lakeland Terrier', 'Sealyham Terrier', 'Airedale Terrier', 'Cairn Terrier', 'Australian Terrier', 'Dandie Dinmont Terrier', 'Boston Terrier', 'Miniature Schnauzer', 'Giant Schnauzer', 'Standard Schnauzer', 'Scottish Terrier', 'Tibetan Terrier', 'Australian Silky Terrier', 'Soft-coated Wheaten Terrier', 'West Highland White Terrier', 'Lhasa Apso', 'Flat-Coated Retriever', 'Curly-coated Retriever', 'Golden Retriever', 'Labrador Retriever', 'Chesapeake Bay Retriever', 'German Shorthaired Pointer', 'Vizsla', 'English Setter', 'Irish Setter', 'Gordon Setter', 'Brittany dog', 'Clumber Spaniel', 'English Springer Spaniel', 'Welsh Springer Spaniel', 'Cocker Spaniel', 'Sussex Spaniel', 'Irish Water Spaniel', 'Kuvasz', 'Schipperke', 'Groenendael dog', 'Malinois', 'Briard', 'Australian Kelpie', 'Komondor', 'Old English Sheepdog', 'Shetland Sheepdog', 'collie', 'Border Collie', 'Bouvier des Flandres dog', 'Rottweiler', 'German Shepherd Dog', 'Dobermann', 'Miniature Pinscher', 'Greater Swiss Mountain Dog', 'Bernese Mountain Dog', 'Appenzeller Sennenhund', 'Entlebucher Sennenhund', 'Boxer', 'Bullmastiff', 'Tibetan Mastiff', 'French Bulldog', 'Great Dane', 'St. Bernard', 'husky', 'Alaskan Malamute', 'Siberian Husky', 'Dalmatian', 'Affenpinscher', 'Basenji', 'pug', 'Leonberger', 'Newfoundland dog', 'Great Pyrenees dog', 'Samoyed', 'Pomeranian', 'Chow Chow', 'Keeshond', 'brussels griffon', 'Pembroke Welsh Corgi', 'Cardigan Welsh Corgi', 'Toy Poodle', 'Miniature Poodle', 'Standard Poodle', 'Mexican hairless dog (xoloitzcuintli)', 'grey wolf', 'Alaskan tundra wolf', 'red wolf or maned wolf', 'coyote', 'dingo', 'dhole', 'African wild dog', 'hyena', 'red fox', 'kit fox', 'Arctic fox', 'grey fox', 'tabby cat', 'tiger cat', 'Persian cat', 'Siamese cat', 'Egyptian Mau', 'cougar', 'lynx', 'leopard', 'snow leopard', 'jaguar', 'lion', 'tiger', 'cheetah', 'brown bear', 'American black bear', 'polar bear', 'sloth bear', 'mongoose', 'meerkat', 'tiger beetle', 'ladybug', 'ground beetle', 'longhorn beetle', 'leaf beetle', 'dung beetle', 'rhinoceros beetle', 'weevil', 'fly', 'bee', 'ant', 'grasshopper', 'cricket insect', 'stick insect', 'cockroach', 'praying mantis', 'cicada', 'leafhopper', 'lacewing', 'dragonfly', 'damselfly', 'red admiral butterfly', 'ringlet butterfly', 'monarch butterfly', 'small white butterfly', 'sulphur butterfly', 'gossamer-winged butterfly', 'starfish', 'sea urchin', 'sea cucumber', 'cottontail rabbit', 'hare', 'Angora rabbit', 'hamster', 'porcupine', 'fox squirrel', 'marmot', 'beaver', 'guinea pig', 'common sorrel horse', 'zebra', 'pig', 'wild boar', 'warthog', 'hippopotamus', 'ox', 'water buffalo', 'bison', 'ram (adult male sheep)', 'bighorn sheep', 'Alpine ibex', 'hartebeest', 'impala (antelope)', 'gazelle', 'arabian camel', 'llama', 'weasel', 'mink', 'European polecat', 'black-footed ferret', 'otter', 'skunk', 'badger', 'armadillo', 'three-toed sloth', 'orangutan', 'gorilla', 'chimpanzee', 'gibbon', 'siamang', 'guenon', 'patas monkey', 'baboon', 'macaque', 'langur', 'black-and-white colobus', 'proboscis monkey', 'marmoset', 'white-headed capuchin', 'howler monkey', 'titi monkey', \"Geoffroy's spider monkey\", 'common squirrel monkey', 'ring-tailed lemur', 'indri', 'Asian elephant', 'African bush elephant', 'red panda', 'giant panda', 'snoek fish', 'eel', 'silver salmon', 'rock beauty fish', 'clownfish', 'sturgeon', 'gar fish', 'lionfish', 'pufferfish', 'abacus', 'abaya', 'academic gown', 'accordion', 'acoustic guitar', 'aircraft carrier', 'airliner', 'airship', 'altar', 'ambulance', 'amphibious vehicle', 'analog clock', 'apiary', 'apron', 'trash can', 'assault rifle', 'backpack', 'bakery', 'balance beam', 'balloon', 'ballpoint pen', 'Band-Aid', 'banjo', 'baluster / handrail', 'barbell', 'barber chair', 'barbershop', 'barn', 'barometer', 'barrel', 'wheelbarrow', 'baseball', 'basketball', 'bassinet', 'bassoon', 'swimming cap', 'bath towel', 'bathtub', 'station wagon', 'lighthouse', 'beaker', 'military hat (bearskin or shako)', 'beer bottle', 'beer glass', 'bell tower', 'baby bib', 'tandem bicycle', 'bikini', 'ring binder', 'binoculars', 'birdhouse', 'boathouse', 'bobsleigh', 'bolo tie', 'poke bonnet', 'bookcase', 'bookstore', 'bottle cap', 'hunting bow', 'bow tie', 'brass memorial plaque', 'bra', 'breakwater', 'breastplate', 'broom', 'bucket', 'buckle', 'bulletproof vest', 'high-speed train', 'butcher shop', 'taxicab', 'cauldron', 'candle', 'cannon', 'canoe', 'can opener', 'cardigan', 'car mirror', 'carousel', 'tool kit', 'cardboard box / carton', 'car wheel', 'automated teller machine', 'cassette', 'cassette player', 'castle', 'catamaran', 'CD player', 'cello', 'mobile phone', 'chain', 'chain-link fence', 'chain mail', 'chainsaw', 'storage chest', 'chiffonier', 'bell or wind chime', 'china cabinet', 'Christmas stocking', 'church', 'movie theater', 'cleaver', 'cliff dwelling', 'cloak', 'clogs', 'cocktail shaker', 'coffee mug', 'coffeemaker', 'spiral or coil', 'combination lock', 'computer keyboard', 'candy store', 'container ship', 'convertible', 'corkscrew', 'cornet', 'cowboy boot', 'cowboy hat', 'cradle', 'construction crane', 'crash helmet', 'crate', 'infant bed', 'Crock Pot', 'croquet ball', 'crutch', 'cuirass', 'dam', 'desk', 'desktop computer', 'rotary dial telephone', 'diaper', 'digital clock', 'digital watch', 'dining table', 'dishcloth', 'dishwasher', 'disc brake', 'dock', 'dog sled', 'dome', 'doormat', 'drilling rig', 'drum', 'drumstick', 'dumbbell', 'Dutch oven', 'electric fan', 'electric guitar', 'electric locomotive', 'entertainment center', 'envelope', 'espresso machine', 'face powder', 'feather boa', 'filing cabinet', 'fireboat', 'fire truck', 'fire screen', 'flagpole', 'flute', 'folding chair', 'football helmet', 'forklift', 'fountain', 'fountain pen', 'four-poster bed', 'freight car', 'French horn', 'frying pan', 'fur coat', 'garbage truck', 'gas mask or respirator', 'gas pump', 'goblet', 'go-kart', 'golf ball', 'golf cart', 'gondola', 'gong', 'gown', 'grand piano', 'greenhouse', 'radiator grille', 'grocery store', 'guillotine', 'hair clip', 'hair spray', 'half-track', 'hammer', 'hamper', 'hair dryer', 'hand-held computer', 'handkerchief', 'hard disk drive', 'harmonica', 'harp', 'combine harvester', 'hatchet', 'holster', 'home theater', 'honeycomb', 'hook', 'hoop skirt', 'gymnastic horizontal bar', 'horse-drawn vehicle', 'hourglass', 'iPod', 'clothes iron', 'carved pumpkin', 'jeans', 'jeep', 'T-shirt', 'jigsaw puzzle', 'rickshaw', 'joystick', 'kimono', 'knee pad', 'knot', 'lab coat', 'ladle', 'lampshade', 'laptop computer', 'lawn mower', 'lens cap', 'letter opener', 'library', 'lifeboat', 'lighter', 'limousine', 'ocean liner', 'lipstick', 'slip-on shoe', 'lotion', 'music speaker', 'loupe magnifying glass', 'sawmill', 'magnetic compass', 'messenger bag', 'mailbox', 'tights', 'one-piece bathing suit', 'manhole cover', 'maraca', 'marimba', 'mask', 'matchstick', 'maypole', 'maze', 'measuring cup', 'medicine cabinet', 'megalith', 'microphone', 'microwave oven', 'military uniform', 'milk can', 'minibus', 'miniskirt', 'minivan', 'missile', 'mitten', 'mixing bowl', 'mobile home', 'ford model t', 'modem', 'monastery', 'monitor', 'moped', 'mortar and pestle', 'graduation cap', 'mosque', 'mosquito net', 'vespa', 'mountain bike', 'tent', 'computer mouse', 'mousetrap', 'moving van', 'muzzle', 'metal nail', 'neck brace', 'necklace', 'baby pacifier', 'notebook computer', 'obelisk', 'oboe', 'ocarina', 'odometer', 'oil filter', 'pipe organ', 'oscilloscope', 'overskirt', 'bullock cart', 'oxygen mask', 'product packet / packaging', 'paddle', 'paddle wheel', 'padlock', 'paintbrush', 'pajamas', 'palace', 'pan flute', 'paper towel', 'parachute', 'parallel bars', 'park bench', 'parking meter', 'railroad car', 'patio', 'payphone', 'pedestal', 'pencil case', 'pencil sharpener', 'perfume', 'Petri dish', 'photocopier', 'plectrum', 'Pickelhaube', 'picket fence', 'pickup truck', 'pier', 'piggy bank', 'pill bottle', 'pillow', 'ping-pong ball', 'pinwheel', 'pirate ship', 'drink pitcher', 'block plane', 'planetarium', 'plastic bag', 'plate rack', 'farm plow', 'plunger', 'Polaroid camera', 'pole', 'police van', 'poncho', 'pool table', 'soda bottle', 'plant pot', \"potter's wheel\", 'power drill', 'prayer rug', 'printer', 'prison', 'missile', 'projector', 'hockey puck', 'punching bag', 'purse', 'quill', 'quilt', 'race car', 'racket', 'radiator', 'radio', 'radio telescope', 'rain barrel', 'recreational vehicle', 'fishing casting reel', 'reflex camera', 'refrigerator', 'remote control', 'restaurant', 'revolver', 'rifle', 'rocking chair', 'rotisserie', 'eraser', 'rugby ball', 'ruler measuring stick', 'sneaker', 'safe', 'safety pin', 'salt shaker', 'sandal', 'sarong', 'saxophone', 'scabbard', 'weighing scale', 'school bus', 'schooner', 'scoreboard', 'CRT monitor', 'screw', 'screwdriver', 'seat belt', 'sewing machine', 'shield', 'shoe store', 'shoji screen / room divider', 'shopping basket', 'shopping cart', 'shovel', 'shower cap', 'shower curtain', 'ski', 'balaclava ski mask', 'sleeping bag', 'slide rule', 'sliding door', 'slot machine', 'snorkel', 'snowmobile', 'snowplow', 'soap dispenser', 'soccer ball', 'sock', 'solar thermal collector', 'sombrero', 'soup bowl', 'keyboard space bar', 'space heater', 'space shuttle', 'spatula', 'motorboat', 'spider web', 'spindle', 'sports car', 'spotlight', 'stage', 'steam locomotive', 'through arch bridge', 'steel drum', 'stethoscope', 'scarf', 'stone wall', 'stopwatch', 'stove', 'strainer', 'tram', 'stretcher', 'couch', 'stupa', 'submarine', 'suit', 'sundial', 'sunglasses', 'sunglasses', 'sunscreen', 'suspension bridge', 'mop', 'sweatshirt', 'swim trunks / shorts', 'swing', 'electrical switch', 'syringe', 'table lamp', 'tank', 'tape player', 'teapot', 'teddy bear', 'television', 'tennis ball', 'thatched roof', 'front curtain', 'thimble', 'threshing machine', 'throne', 'tile roof', 'toaster', 'tobacco shop', 'toilet seat', 'torch', 'totem pole', 'tow truck', 'toy store', 'tractor', 'semi-trailer truck', 'tray', 'trench coat', 'tricycle', 'trimaran', 'tripod', 'triumphal arch', 'trolleybus', 'trombone', 'hot tub', 'turnstile', 'typewriter keyboard', 'umbrella', 'unicycle', 'upright piano', 'vacuum cleaner', 'vase', 'vaulted or arched ceiling', 'velvet fabric', 'vending machine', 'vestment', 'viaduct', 'violin', 'volleyball', 'waffle iron', 'wall clock', 'wallet', 'wardrobe', 'military aircraft', 'sink', 'washing machine', 'water bottle', 'water jug', 'water tower', 'whiskey jug', 'whistle', 'hair wig', 'window screen', 'window shade', 'Windsor tie', 'wine bottle', 'airplane wing', 'wok', 'wooden spoon', 'wool', 'split-rail fence', 'shipwreck', 'sailboat', 'yurt', 'website', 'comic book', 'crossword', 'traffic or street sign', 'traffic light', 'dust jacket', 'menu', 'plate', 'guacamole', 'consomme', 'hot pot', 'trifle', 'ice cream', 'popsicle', 'baguette', 'bagel', 'pretzel', 'cheeseburger', 'hot dog', 'mashed potatoes', 'cabbage', 'broccoli', 'cauliflower', 'zucchini', 'spaghetti squash', 'acorn squash', 'butternut squash', 'cucumber', 'artichoke', 'bell pepper', 'cardoon', 'mushroom', 'Granny Smith apple', 'strawberry', 'orange', 'lemon', 'fig', 'pineapple', 'banana', 'jackfruit', 'cherimoya (custard apple)', 'pomegranate', 'hay', 'carbonara', 'chocolate syrup', 'dough', 'meatloaf', 'pizza', 'pot pie', 'burrito', 'red wine', 'espresso', 'tea cup', 'eggnog', 'mountain', 'bubble', 'cliff', 'coral reef', 'geyser', 'lakeshore', 'promontory', 'sandbar', 'beach', 'valley', 'volcano', 'baseball player', 'bridegroom', 'scuba diver', 'rapeseed', 'daisy', \"yellow lady's slipper\", 'corn', 'acorn', 'rose hip', 'horse chestnut seed', 'coral fungus', 'agaric', 'gyromitra', 'stinkhorn mushroom', 'earth star fungus', 'hen of the woods mushroom', 'bolete', 'corn cob', 'toilet paper']"
      ]
    },
    {
      "cell_type": "code",
      "execution_count": null,
      "metadata": {
        "id": "JIzYXXxzTAzZ"
      },
      "outputs": [],
      "source": [
        "model_name = 'vit_b16'\n",
        "\n",
        "model = clip.MODELS[model_name]()\n",
        "vars = clip.load_model_vars(model_name)\n",
        "\n",
        "encode_text = jax.jit(lambda texts: model.apply(vars, texts, method=model.encode_text))\n",
        "encode_image = jax.jit(lambda x: model.apply(vars, x, method=model.encode_image))\n",
        "\n",
        "tokenize_fn = clip_tokenizer.build_tokenizer()"
      ]
    },
    {
      "cell_type": "code",
      "execution_count": null,
      "metadata": {
        "id": "lRjGzv6sosYZ"
      },
      "outputs": [],
      "source": [
        "def permute_words(text):\n",
        "  words = text.split(' ')\n",
        "  random.shuffle(words)\n",
        "  return ' '.join(words)\n",
        "\n",
        "def zeroshot_classifier(classnames, templates, permute=False):\n",
        "  zeroshot_weights = []\n",
        "  permute_fn = permute_words if permute else lambda x: x\n",
        "  for classname in tqdm(classnames):\n",
        "    texts = [permute_fn(template.format(classname)) for template in templates]\n",
        "    class_embeddings = encode_text(tokenize_fn(texts))\n",
        "    class_embedding = class_embeddings.mean(0)\n",
        "    class_embedding /= jnp.linalg.norm(class_embedding)\n",
        "    zeroshot_weights.append(class_embedding)\n",
        "  return jnp.stack(zeroshot_weights, axis=1)\n"
      ]
    },
    {
      "cell_type": "code",
      "execution_count": null,
      "metadata": {
        "id": "nw6OUXuMpQ3Q"
      },
      "outputs": [],
      "source": [
        "# Readout weights with prompt engineering\n",
        "weights_prompteng = zeroshot_classifier(clip.IMAGENET_CLASSES, clip.PROMPTS)\n",
        "\n",
        "# Readout weights with modified ImageNet class names only\n",
        "weights_name = zeroshot_classifier(clip.IMAGENET_CLASSES, ['{}'])\n"
      ]
    },
    {
      "cell_type": "code",
      "execution_count": null,
      "metadata": {
        "id": "HLxQkmIIaeH2"
      },
      "outputs": [],
      "source": [
        "def preprocess(batch, size=224):\n",
        "  batch = tf.image.convert_image_dtype(batch, dtype=tf.float32)\n",
        "  return gvt_preprocess.central_crop(gvt_preprocess.resize_small(batch, size, size), size, size)\n",
        "\n",
        "def normalize(img):\n",
        "  return (img - clip.IMAGE_MEAN) / clip.IMAGE_STD\n",
        "  \n",
        "def unnormalize(x):\n",
        "  return x * clip.IMAGE_STD + clip.IMAGE_MEAN"
      ]
    },
    {
      "cell_type": "code",
      "execution_count": null,
      "metadata": {
        "id": "VZx-2xM2uflF"
      },
      "outputs": [],
      "source": [
        "def load_dataset(dataset='imagenet2012', split='validation', batch_size=1024):\n",
        "  ds = tfds.load(dataset, split=split)\n",
        "  def _preprocess(d):\n",
        "    d['image'] = normalize(preprocess(d['image']))\n",
        "    return d\n",
        "  def _prepare(d):\n",
        "    return jax.tree_map(lambda x: x._numpy(), d)\n",
        "  batched_dataset = ds.map(_preprocess).batch(batch_size)\n",
        "  batched_dataset = map(_prepare, batched_dataset)\n",
        "  return batched_dataset"
      ]
    },
    {
      "cell_type": "code",
      "execution_count": null,
      "metadata": {
        "id": "nlfoPT44NafG"
      },
      "outputs": [],
      "source": [
        "def compute_image_embeddings(dset):\n",
        "  embeddings = []\n",
        "  labels = []\n",
        "  for batch in tqdm(dset):\n",
        "    embeddings.append(encode_image(batch['image']))\n",
        "    labels.append(batch['label'])\n",
        "  return jnp.vstack(embeddings), jnp.hstack(labels)\n",
        "  \n",
        "def compute_accuracy(logits, labels):\n",
        "  top_probs, top_labels = jax.lax.top_k(logits, 5)\n",
        "  top1 = 100 * jnp.mean(top_labels[:, 0] == labels)\n",
        "  top5 = 100 * jnp.sum(top_labels == labels[:, None]) / labels.shape[0]\n",
        "  return top1, top5"
      ]
    },
    {
      "cell_type": "code",
      "execution_count": null,
      "metadata": {
        "id": "7IRsBlmgN0nz"
      },
      "outputs": [],
      "source": [
        "dset = load_dataset('imagenet2012')\n",
        "embeddings, labels = compute_image_embeddings(dset)"
      ]
    },
    {
      "cell_type": "code",
      "execution_count": null,
      "metadata": {
        "id": "bV7jIm8sFjHD"
      },
      "outputs": [],
      "source": [
        "# Compute accuracy with class names and prompt engineering.\n",
        "# Computing accuracy on ImageNet validation set on a TPUv2 takes ~2 minutes.\n",
        "# Note: use np.matmul() get more accurate and consistent result and @\n",
        "logits_prompteng = np.matmul(embeddings, weights_prompteng)\n",
        "logits_name = np.matmul(embeddings, weights_name)\n",
        "# logits_prompteng = embeddings @ weights_prompteng\n",
        "# logits_name = embeddings @ weights_name\n",
        "top1_prompt, top5_prompt = compute_accuracy(logits_prompteng, labels)\n",
        "top1_name, top5_name = compute_accuracy(logits_name, labels)\n",
        "print(f'Prompt Engineering: top1={top1_prompt:.2f}%, top5={top5_prompt:.2f}%')\n",
        "print(f'Class Names: top1={top1_name:.2f}%, top5={top5_name:.2f}%')"
      ]
    },
    {
      "cell_type": "markdown",
      "metadata": {
        "id": "SLeqlvKV3ZpT"
      },
      "source": [
        "## 2. Build hierarchy from WordNet"
      ]
    },
    {
      "cell_type": "markdown",
      "metadata": {
        "id": "xMc8VFmpzH8p"
      },
      "source": [
        "### WordNet parse"
      ]
    },
    {
      "cell_type": "code",
      "execution_count": null,
      "metadata": {
        "id": "GI8y4W79zH8p"
      },
      "outputs": [],
      "source": [
        "words_map = {}\n",
        "child_map = {}\n",
        "parent_map = {}\n",
        "gloss_map = {} # description\n",
        "\n",
        "blank = ' '\n",
        "comma_blank = ', '"
      ]
    },
    {
      "cell_type": "code",
      "execution_count": null,
      "metadata": {
        "id": "gSGZoG3CzH8p"
      },
      "outputs": [],
      "source": [
        "#obtain wordnet_id mappings for all words\n",
        "with tf.io.gfile.GFile(words_path, mode='r') as f:\n",
        "\tfor line in f:\n",
        "\t\tline_split = line.split() # use blank \" \" to split\n",
        "\t\twnid = line_split[0] # e.g., 'n03200357'\n",
        "\t\twords = line_split[1:] # e.g., ['electric,', 'electric', 'automobile,', 'electric', 'car'],\n",
        "\t\twords_map[wnid] = words\n",
        "f.close()"
      ]
    },
    {
      "cell_type": "code",
      "execution_count": null,
      "metadata": {
        "id": "KAeBPSSxzH8q"
      },
      "outputs": [],
      "source": [
        "#obtain wordnet_id mappings for all word description\n",
        "with tf.io.gfile.GFile(gloss_path, mode='r') as f:\n",
        "\tfor line in f:\n",
        "\t\tline_split = line.split()\n",
        "\t\twnid = line_split[0]\n",
        "\t\tgloss = blank.join(line_split[1:])\n",
        "\t\tgloss_map[wnid] = gloss\n",
        "f.close()"
      ]
    },
    {
      "cell_type": "code",
      "execution_count": null,
      "metadata": {
        "id": "awkQS7mnzH8q"
      },
      "outputs": [],
      "source": [
        "#obtain wordnet_id mappings for all parents-children\n",
        "with tf.io.gfile.GFile(child_map_path, mode='r') as f:\n",
        "\tfor line in f:\n",
        "\t\tparent, child = line.split()\n",
        "\t\tparent_map[child] = parent\n",
        "\t\tif parent not in child_map:\n",
        "\t\t\tchild_map[parent] = [child]\n",
        "\t\telse:\n",
        "\t\t\tchild_map[parent].append(child)\n",
        "f.close()\t"
      ]
    },
    {
      "cell_type": "code",
      "execution_count": null,
      "metadata": {
        "id": "zDv2CRlbzH8q"
      },
      "outputs": [],
      "source": [
        "# find details given wordnet_id\n",
        "category = 'n02690373' #'n02084071' is dog\n",
        "descendants = []\n",
        "ancestors = []\n",
        "# find Descendants and Ancestors\n",
        "print(words_map[category])\n",
        "print(gloss_map[category]+\"\\n\")\n",
        "#list all children\n",
        "print(\"Descendants:\\n\")\n",
        "if category in child_map:\n",
        "  search = [child for child in child_map[category]]\n",
        "while search: # go over all children (BFS)\n",
        "  node = search.pop()\n",
        "  print(\"\\t\"+ blank.join(words_map[node])+\"\\n\")\n",
        "  descendants.append(blank.join(words_map[node])) # keep all descendant\n",
        "  if node in child_map: #has children\n",
        "    [search.append(child) for child in child_map[node]]\n",
        "\n",
        "#list all parents\n",
        "print(\"Ancestors:\\n\")\n",
        "if category in parent_map:\n",
        "  node = parent_map[category] # only one parent class\n",
        "else:\n",
        "  node = category\n",
        "while node in parent_map: # one way go up\n",
        "  print(\"\\t\"+ blank.join(words_map[node])+\"\\n\")\n",
        "  ancestors.append(blank.join(words_map[node])) # keep all ancestor\n",
        "  node = parent_map[node]\n",
        "print(\"finish\")"
      ]
    },
    {
      "cell_type": "code",
      "execution_count": null,
      "metadata": {
        "id": "gReUKpVSzH8r"
      },
      "outputs": [],
      "source": [
        "# get imagenet_id: wordnet_id mapping. e.g., '0': 'n01440764'\n",
        "index_wdid = {}\n",
        "with tf.io.gfile.GFile(imagenet_label_to_wordnet_file, mode='r') as f:\n",
        "  for line in f:\n",
        "    if \"{'id'\" in line:\n",
        "      index_wdid[line.split(\": {'\")[0].split(\"{\")[-1].split(\" \")[-1]] = 'n' + line.split(\"-n\")[0].split(\"'\")[-1]      # {0: {'id': '01440764-n',"
      ]
    },
    {
      "cell_type": "markdown",
      "metadata": {
        "id": "wJ1xkt89qSSk"
      },
      "source": [
        "build hierarchy"
      ]
    },
    {
      "cell_type": "code",
      "execution_count": null,
      "metadata": {
        "id": "SRMCK8HZzH8r"
      },
      "outputs": [],
      "source": [
        "# find ancestor, descendants and children for each class, may takes minites\n",
        "an_des_dict_json = {}\n",
        "for index in range(len(clip.IMAGENET_CLASSES)): # for 1000 classes\n",
        "  category = index_wdid[str(index)]\n",
        "  an_des_dict_json[str(index)] = {}\n",
        "  descendants = []\n",
        "  ancestors = []\n",
        "  children = []\n",
        "  # find Descendants and Ancestors\n",
        "  #list all children\n",
        "  if category in child_map:\n",
        "    search = [child for child in child_map[category]] # here is only the child\n",
        "    children = [blank.join(words_map[ele]) for ele in search]\n",
        "  while search: # go over all children BFS priority queue\n",
        "    node = search.pop()\n",
        "    descendants.append(blank.join(words_map[node])) # keep all descendant\n",
        "    if node in child_map: #has children\n",
        "      [search.append(child) for child in child_map[node]]\n",
        "\n",
        "  #list all parents\n",
        "  node = parent_map[category] if category in parent_map else category\n",
        "  while node in parent_map: # one way go up\n",
        "    ancestors.append(blank.join(words_map[node])) # keep all ancestor\n",
        "    node = parent_map[node]\n",
        "  \n",
        "  # save\n",
        "  an_des_dict_json[str(index)][\"wdid\"] = category\n",
        "  an_des_dict_json[str(index)][\"words_map\"] = blank.join(words_map[category])\n",
        "  an_des_dict_json[str(index)][\"clip_words_map\"] = clip.IMAGENET_CLASSES[index]\n",
        "  an_des_dict_json[str(index)][\"ancestors\"] = ancestors\n",
        "  an_des_dict_json[str(index)][\"descendants\"] = descendants\n",
        "  an_des_dict_json[str(index)][\"children\"] = children"
      ]
    },
    {
      "cell_type": "markdown",
      "metadata": {
        "id": "FJtim-_cJpVs"
      },
      "source": [
        "### Utility functions for finding descendants and ancestors"
      ]
    },
    {
      "cell_type": "code",
      "execution_count": null,
      "metadata": {
        "id": "FcHqCy_PAP3s"
      },
      "outputs": [],
      "source": [
        "# TODO(yunhaoge) Add examples for using the functions\n",
        "\n",
        "def bottom_up_hierarchy(max_depth_ancestor=0, max_depth_descendant=1, use_children=True):\n",
        "  \"\"\"Obtain the class list by considering hierarchy\n",
        "  \"\"\"\n",
        "  # Consider ancedescendant into clip zero-shot \n",
        "  class_an_des_mapping = [] # start index of each imagenet class, used for following aggregation\n",
        "  imagenet_classes_an_des = []\n",
        "  class_an_des_mapping_list = [] # index details of each imagenet class\n",
        "  i = 0\n",
        "  for imagenet_idx, classname in enumerate(clip.IMAGENET_CLASSES):\n",
        "    class_an_des_mapping.append(i) \n",
        "    imagenet_classes_an_des.append(classname) # add original class name\n",
        "    class_an_des_list = [] # relevant id for specific class\n",
        "    i += 1 # add index first\n",
        "    class_an_des_list.append(i)\n",
        "    node_ancestors = an_des_dict_json[str(imagenet_idx)][\"ancestors\"]\n",
        "    if use_children: # consider only children\n",
        "      node_descendants = an_des_dict_json[str(imagenet_idx)][\"children\"]\n",
        "    else: \n",
        "      node_descendants = an_des_dict_json[str(imagenet_idx)][\"descendants\"]\n",
        "    \n",
        "    for an_idx, ancestor in enumerate(node_ancestors): # select ancestors\n",
        "      if an_idx \u003c max_depth_ancestor:\n",
        "        if comma_blank in ancestor: # contains synonym, more than one, keep only one\n",
        "          imagenet_classes_an_des.append(ancestor.split(comma_blank)[0])\n",
        "          i += 1\n",
        "          class_an_des_list.append(i)\n",
        "        else:\n",
        "          imagenet_classes_an_des.append(ancestor)\n",
        "          i += 1\n",
        "          class_an_des_list.append(i)\n",
        "    for des_idx, descentant in enumerate(node_descendants): # select descendants\n",
        "      if des_idx \u003c max_depth_descendant:\n",
        "        if comma_blank in descentant: # contains synonym, more than one, keep only one\n",
        "          imagenet_classes_an_des.append(descentant.split(comma_blank)[0])\n",
        "          i += 1\n",
        "          class_an_des_list.append(i)\n",
        "        else:\n",
        "          imagenet_classes_an_des.append(descentant)\n",
        "          i += 1\n",
        "          class_an_des_list.append(i)\n",
        "    class_an_des_mapping_list.append(class_an_des_list)\n",
        "  return imagenet_classes_an_des, class_an_des_mapping, class_an_des_mapping_list"
      ]
    },
    {
      "cell_type": "code",
      "execution_count": null,
      "metadata": {
        "id": "RJxTyrVFt2_k"
      },
      "outputs": [],
      "source": [
        "def top_down_hierarchy(interest_case, clip_templete, use_LCA = True, use_ancestor = False):\n",
        "  \"\"\"Obtain the word list by adding LCA.\"\"\"\n",
        "  # interest_case\n",
        "  logits_ori_all = []\n",
        "  for idx, interest_case_ele in enumerate(tqdm(interest_case)):\n",
        "    # original word embedding\n",
        "    word_list_ori = np.array(clip.IMAGENET_CLASSES)[np.array(interest_case_ele)].tolist()\n",
        "    if use_LCA: # add LCA/A\n",
        "      if use_ancestor: # use Ancestor\n",
        "        word_list =  [word + blank + A_all[idx] for word in word_list_ori]\n",
        "      else: # use LCA\n",
        "        word_list =  [word + blank + LCA_all[idx] for word in word_list_ori]\n",
        "    else:\n",
        "      word_list =  [word for word in word_list_ori]\n",
        "  return word_list"
      ]
    },
    {
      "cell_type": "code",
      "execution_count": null,
      "metadata": {
        "id": "Vnd06rNSpckx"
      },
      "outputs": [],
      "source": [
        "# fine the LCA for each image top 5\n",
        "def find_LCA(top5_ancestor): # general\n",
        "  \"\"\"Obtain the Lowest comman ancestor of top 5 classes.\n",
        "\n",
        "  Args:\n",
        "      top5_ancestor: List of the ancestors for each candidate class\n",
        "  Returns:\n",
        "      LCA: Str, lowest comman ancestor\n",
        "  \"\"\"\n",
        "  LCA = 'physical entity'\n",
        "  # while (1) still have ancestor\n",
        "  while min([len(ele) for ele in top5_ancestor]) \u003e 0 : \n",
        "    # find the highest for each class in topk\n",
        "    current_roots = [topk_ancestor.pop() for topk_ancestor in top5_ancestor]\n",
        "    current_roots_freq = Counter(current_roots)\n",
        "    current_roots_freq = sorted(current_roots_freq.items(), key=lambda x: x[1], reverse=True) # become a list e.g.,[('ee', 2), ('ww', 1), ('cc', 1)]\n",
        "    majority, majority_freq = current_roots_freq[0]\n",
        "    if majority_freq == 5:\n",
        "      LCA = majority if comma_blank not in majority else majority.split(comma_blank)[0]\n",
        "  return LCA"
      ]
    }
  ],
  "metadata": {
    "colab": {
      "collapsed_sections": [],
      "last_runtime": {
        "build_target": "//learning/deepmind/public/tools/ml_python:ml_notebook",
        "kind": "private"
      },
      "name": "zero-shot clip evaluation",
      "private_outputs": true,
      "provenance": [
        {
          "file_id": "1pYzvrxFxq49N4pRjr_EqO5G88XcbymJ2",
          "timestamp": 1660953918805
        },
        {
          "file_id": "1GYA4lgUMzAggr0NI6YmpjxG-bEkVzqts",
          "timestamp": 1660839172150
        },
        {
          "file_id": "1kIMxAALvh_VjVlbb8R1jIr1_9jDxKwT1",
          "timestamp": 1660764437571
        },
        {
          "file_id": "1t3SaruLXW05sYXbktqrv02SEy7uUPtLm",
          "timestamp": 1657237417294
        }
      ],
      "toc_visible": true
    },
    "kernelspec": {
      "display_name": "Python 3",
      "name": "python3"
    }
  },
  "nbformat": 4,
  "nbformat_minor": 0
}
